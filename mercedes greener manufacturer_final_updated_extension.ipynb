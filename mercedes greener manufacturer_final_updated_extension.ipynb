{
 "cells": [
  {
   "cell_type": "markdown",
   "metadata": {},
   "source": [
    "# Mercedez Benz Greener Manufacturing Extension"
   ]
  },
  {
   "cell_type": "markdown",
   "metadata": {},
   "source": [
    "## Result From Previous Models"
   ]
  },
  {
   "cell_type": "code",
   "execution_count": 53,
   "metadata": {},
   "outputs": [
    {
     "name": "stdout",
     "output_type": "stream",
     "text": [
      "+-----------------------------------------------------------------+---------------+--------------+\n",
      "|                            Model Name                           | Private Score | Public Score |\n",
      "+-----------------------------------------------------------------+---------------+--------------+\n",
      "|                Linear Regression + label encoding               |    0.50947    |    0.5197    |\n",
      "|             Linear Regression + label encoding + PCA            |    0.50998    |   0.51842    |\n",
      "|    Linear regression + label encoding + interaction features    |    0.50994    |    0.5199    |\n",
      "| Linear Regression + label encoding + PCA + interaction features |     0.5105    |    0.5185    |\n",
      "|                       RF + label encoding                       |    0.54949    |   0.55709    |\n",
      "|                    RF + label encoding + PCA                    |    0.55032    |   0.55684    |\n",
      "|            RF + label encoding + interaction features           |     0.5508    |   0.55774    |\n",
      "|         RF + label encoding + PCA + interaction features        |    0.55148    |   0.55912    |\n",
      "|                       XGB + label encoding                      |    0.53493    |   0.54529    |\n",
      "|                    XGB + label encoding + PCA                   |    0.54654    |   0.55458    |\n",
      "|           XGB + label encoding + interaction features           |    0.54345    |   0.55114    |\n",
      "|        XGB + label encoding + PCA + interaction features        |    0.54178    |   0.55019    |\n",
      "|                    ExtraTree + label encoding                   |    0.54968    |   0.55519    |\n",
      "|                 ExtraTree + label encoding + PCA                |    0.54881    |    0.552     |\n",
      "|        ExtraTree + label encoding + interaction features        |    0.54947    |   0.55285    |\n",
      "|     ExtraTree + label encoding + PCA + interaction features     |    0.55045    |   0.55298    |\n",
      "|                    Stacking + label encoding                    |     0.5506    |   0.55746    |\n",
      "|                 Stacking + label encoding + PCA                 |    0.55125    |   0.55757    |\n",
      "|         Stacking + label encoding + interaction features        |    0.55115    |   0.55602    |\n",
      "|      Stacking + label encoding + PCA + interaction features     |    0.55227    |   0.55578    |\n",
      "+-----------------------------------------------------------------+---------------+--------------+\n"
     ]
    }
   ],
   "source": [
    "from prettytable import PrettyTable\n",
    "    \n",
    "x = PrettyTable()\n",
    "\n",
    "x.field_names = [\"Model Name\",\"Private Score\", \"Public Score\"]\n",
    "\n",
    "x.add_row([\"Linear Regression + label encoding\", 0.50947, 0.51970])\n",
    "x.add_row([\"Linear Regression + label encoding + PCA\", 0.50998, 0.51842])\n",
    "x.add_row([\"Linear regression + label encoding + interaction features\", 0.50994, 0.51990])\n",
    "x.add_row([\"Linear Regression + label encoding + PCA + interaction features\", 0.51050, 0.51850])\n",
    "\n",
    "x.add_row([\"RF + label encoding\", 0.54949, 0.55709])\n",
    "x.add_row([\"RF + label encoding + PCA\", 0.55032, 0.55684])\n",
    "x.add_row([\"RF + label encoding + interaction features\", 0.55080, 0.55774])\n",
    "x.add_row([\"RF + label encoding + PCA + interaction features\", 0.55148, 0.55912])\n",
    "\n",
    "x.add_row([\"XGB + label encoding\", 0.53493, 0.54529])\n",
    "x.add_row([\"XGB + label encoding + PCA\", 0.54654, 0.55458])\n",
    "x.add_row([\"XGB + label encoding + interaction features\", 0.54345, 0.55114])\n",
    "x.add_row([\"XGB + label encoding + PCA + interaction features\", 0.54178, 0.55019])\n",
    "\n",
    "x.add_row([\"ExtraTree + label encoding\", 0.54968, 0.55519])\n",
    "x.add_row([\"ExtraTree + label encoding + PCA\", 0.54881, 0.55200])\n",
    "x.add_row([\"ExtraTree + label encoding + interaction features\", 0.54947, 0.55285])\n",
    "x.add_row([\"ExtraTree + label encoding + PCA + interaction features\", 0.55045, 0.55298])\n",
    "\n",
    "x.add_row([\"Stacking + label encoding\", 0.55060, 0.55746])\n",
    "x.add_row([\"Stacking + label encoding + PCA\", 0.55125, 0.55757])\n",
    "x.add_row([\"Stacking + label encoding + interaction features\", 0.55115, 0.55602])\n",
    "x.add_row([\"Stacking + label encoding + PCA + interaction features\", 0.55227, 0.55578])\n",
    "\n",
    "\n",
    "print(x)"
   ]
  },
  {
   "cell_type": "markdown",
   "metadata": {},
   "source": [
    "I will choose top 2 models for further tries."
   ]
  },
  {
   "cell_type": "markdown",
   "metadata": {},
   "source": [
    "## Top 2 result from previous model"
   ]
  },
  {
   "cell_type": "code",
   "execution_count": 1,
   "metadata": {},
   "outputs": [
    {
     "name": "stdout",
     "output_type": "stream",
     "text": [
      "+--------------------------------------------------------+---------------+--------------+\n",
      "|                    Top 2 Model Name                    | Private Score | Public Score |\n",
      "+--------------------------------------------------------+---------------+--------------+\n",
      "|    RF + label encoding + PCA + interaction features    |    0.55148    |   0.55912    |\n",
      "| Stacking + label encoding + PCA + interaction features |    0.55227    |   0.55578    |\n",
      "+--------------------------------------------------------+---------------+--------------+\n"
     ]
    }
   ],
   "source": [
    "from prettytable import PrettyTable\n",
    "    \n",
    "x = PrettyTable()\n",
    "\n",
    "x.field_names = [\"Top 2 Model Name\",\"Private Score\", \"Public Score\"]\n",
    "\n",
    "x.add_row([\"RF + label encoding + PCA + interaction features\", 0.55148, 0.55912])\n",
    "x.add_row([\"Stacking + label encoding + PCA + interaction features\", 0.55227, 0.55578])\n",
    "\n",
    "\n",
    "print(x)"
   ]
  },
  {
   "cell_type": "markdown",
   "metadata": {},
   "source": [
    "##### In this notebook, I tried to implement the approach used in the following discussion of kernel for the improvement of score:\n",
    "\n",
    "https://www.kaggle.com/c/mercedes-benz-greener-manufacturing/discussion/34949\n",
    "    \n",
    "1. As per David, the author of this discussion, categorical features are featured engineered from other features.\n",
    "    I am trying to use his hypothesis and will remove categorical feature and compare the model result with \n",
    "    previous approach.\n",
    "    As per him, categorical features are feature engineered by rest of the features. So, removing them will show  improvement in our model.\n",
    "    \n",
    "2. Also, if I see feature importnaces from previous tree based models, the importance of categorical features are very low as compared to other features. So, this supports the David's hypothesis regarding the categorical features.\n",
    "\n",
    "Let's implement the approach and compare our models."
   ]
  },
  {
   "cell_type": "markdown",
   "metadata": {},
   "source": [
    "# Importing Libraries"
   ]
  },
  {
   "cell_type": "code",
   "execution_count": 1,
   "metadata": {},
   "outputs": [],
   "source": [
    "import warnings\n",
    "warnings.filterwarnings(\"ignore\")\n",
    "import numpy as np\n",
    "import pandas as pd\n",
    "import seaborn as sns\n",
    "import matplotlib.pyplot as plt\n",
    "%matplotlib inline\n",
    "import os\n",
    "import pandas as pd\n",
    "import matplotlib.pyplot as plt\n",
    "import warnings\n",
    "import numpy as np\n",
    "from sklearn.preprocessing import normalize\n",
    "import seaborn as sns\n",
    "from scipy.sparse import hstack\n",
    "from sklearn.model_selection import train_test_split\n",
    "from sklearn.model_selection import GridSearchCV\n",
    "import math\n",
    "from sklearn.metrics import normalized_mutual_info_score\n",
    "from sklearn.ensemble import RandomForestClassifier\n",
    "warnings.filterwarnings(\"ignore\")\n",
    "from sklearn import model_selection\n",
    "from sklearn.linear_model import LogisticRegression\n",
    "from scipy import stats\n",
    "from sklearn.feature_extraction.text import CountVectorizer\n",
    "from sklearn.preprocessing import LabelBinarizer\n",
    "from sklearn.preprocessing import LabelEncoder\n",
    "from sklearn.preprocessing import Normalizer\n",
    "import string\n",
    "import matplotlib.pyplot as plt\n",
    "import seaborn as sns\n",
    "import matplotlib.cm as cm\n",
    "from scipy.stats import randint as sp_randint\n",
    "from scipy.stats import uniform\n",
    "from sklearn.preprocessing import StandardScaler,MinMaxScaler\n",
    "from sklearn.model_selection import RandomizedSearchCV,GridSearchCV   \n",
    "from sklearn.ensemble import RandomForestRegressor\n",
    "import xgboost as xgb\n",
    "from prettytable import PrettyTable\n",
    "import pickle\n",
    "from sklearn.model_selection import RepeatedKFold,KFold\n",
    "from sklearn.metrics import r2_score\n",
    "from sklearn.preprocessing import LabelEncoder\n",
    "from sklearn.decomposition import PCA\n",
    "from sklearn.feature_extraction import DictVectorizer\n",
    "from xgboost import plot_importance\n",
    "from mlxtend.regressor import StackingCVRegressor\n",
    "from sklearn.linear_model import Ridge\n",
    "from sklearn.ensemble import ExtraTreesRegressor\n",
    "from sklearn.model_selection import cross_val_score\n",
    "from sklearn.linear_model import SGDRegressor\n",
    "from scipy import stats\n",
    "from sklearn.decomposition import TruncatedSVD, PCA\n",
    "from sklearn.model_selection import cross_validate"
   ]
  },
  {
   "cell_type": "markdown",
   "metadata": {},
   "source": [
    "## Loading Dataset"
   ]
  },
  {
   "cell_type": "code",
   "execution_count": 2,
   "metadata": {},
   "outputs": [
    {
     "name": "stdout",
     "output_type": "stream",
     "text": [
      "Number of datapoints:  4209\n",
      "Number of features:  378\n"
     ]
    }
   ],
   "source": [
    "train_df = pd.read_csv(\"train.csv\")\n",
    "print(\"Number of datapoints: \", train_df.shape[0])\n",
    "print(\"Number of features: \", train_df.shape[1])"
   ]
  },
  {
   "cell_type": "code",
   "execution_count": 3,
   "metadata": {},
   "outputs": [
    {
     "data": {
      "text/plain": [
       "Text(0.5, 1.0, 'X5 vs ID')"
      ]
     },
     "execution_count": 3,
     "metadata": {},
     "output_type": "execute_result"
    },
    {
     "data": {
      "image/png": "[encoded data removed]",
      "text/plain": [
       "<Figure size 864x576 with 1 Axes>"
      ]
     },
     "metadata": {
      "needs_background": "light"
     },
     "output_type": "display_data"
    }
   ],
   "source": [
    "# https://www.kaggle.com/c/mercedes-benz-greener-manufacturing/discussion/34949\n",
    "plt.figure(figsize=(12,8))\n",
    "sns.boxplot(y=train_df['ID'],x=train_df[\"X5\"])\n",
    "plt.xlabel(\"X5 Values\")\n",
    "plt.ylabel(\"ID\")\n",
    "plt.title(\"X5 vs ID\")"
   ]
  },
  {
   "cell_type": "markdown",
   "metadata": {},
   "source": [
    "1. As, we can see that X5 feature is the grouping of ID column, which is true according to david's hypothesis also\n",
    "2. X4 feature has very low variance.\n",
    "3. As, we can see that, using our previous tree based models, all the categorical features have very less feature importance as compared to other features.\n",
    "4. So, in this model, we will remove the categorical features and then train the model.\n",
    "5. We are taking threshold of target variable as 150"
   ]
  },
  {
   "cell_type": "markdown",
   "metadata": {},
   "source": [
    "Let's try removing categorical features and then check the performance of model"
   ]
  },
  {
   "cell_type": "code",
   "execution_count": 4,
   "metadata": {},
   "outputs": [],
   "source": [
    "train_df_modified = train_df[train_df[\"y\"]<150]"
   ]
  },
  {
   "cell_type": "markdown",
   "metadata": {},
   "source": [
    "# Preprocessing Data"
   ]
  },
  {
   "cell_type": "markdown",
   "metadata": {},
   "source": [
    "### Preparing Traing Dataset"
   ]
  },
  {
   "cell_type": "code",
   "execution_count": 5,
   "metadata": {},
   "outputs": [
    {
     "name": "stdout",
     "output_type": "stream",
     "text": [
      "(4194, 378)\n",
      "(4194, 312)\n"
     ]
    }
   ],
   "source": [
    "rem_cols = []\n",
    "dups = list(train_df_modified.T.index[train_df_modified.T.duplicated(keep=\"first\")].values)\n",
    "rem_cols.extend(dups)\n",
    "df_num = train_df_modified.loc[:,train_df_modified.dtypes==np.int64]\n",
    "\n",
    "temp = []\n",
    "for i in df_num.columns:\n",
    "    if train_df_modified[i].var()==0:\n",
    "        temp.append(i)\n",
    "        \n",
    "cat_feat = []\n",
    "for i in train_df.columns:\n",
    "    if train_df[i].dtypes == np.object:\n",
    "        cat_feat.append(i)\n",
    "        \n",
    "rem_cols.extend(temp)\n",
    "rem_cols.extend(cat_feat)\n",
    "rem_cols = list(set(rem_cols))\n",
    "print(train_df_modified.shape)\n",
    "train_df_modified = train_df_modified.drop(rem_cols, axis=1)\n",
    "print(train_df_modified.shape)"
   ]
  },
  {
   "cell_type": "code",
   "execution_count": 6,
   "metadata": {},
   "outputs": [
    {
     "name": "stdout",
     "output_type": "stream",
     "text": [
      "Number of removed features are:  66\n"
     ]
    }
   ],
   "source": [
    "print(\"Number of removed features are: \",train_df.shape[1] - train_df_modified.shape[1])"
   ]
  },
  {
   "cell_type": "code",
   "execution_count": 7,
   "metadata": {},
   "outputs": [],
   "source": [
    "Y_train = train_df_modified[\"y\"]\n",
    "train_df_modified.drop(columns=[\"y\"], axis=1, inplace=True)\n",
    "X_train = train_df_modified"
   ]
  },
  {
   "cell_type": "code",
   "execution_count": 8,
   "metadata": {},
   "outputs": [],
   "source": [
    "X_train_num = train_df_modified.loc[:,train_df_modified.dtypes==np.int64]\n",
    "X_train_num.drop(columns=[\"ID\"], inplace=True)"
   ]
  },
  {
   "cell_type": "code",
   "execution_count": 9,
   "metadata": {},
   "outputs": [
    {
     "name": "stdout",
     "output_type": "stream",
     "text": [
      "(4194, 310)\n"
     ]
    },
    {
     "data": {
      "text/html": [
       "<div>\n",
       "<style scoped>\n",
       "    .dataframe tbody tr th:only-of-type {\n",
       "        vertical-align: middle;\n",
       "    }\n",
       "\n",
       "    .dataframe tbody tr th {\n",
       "        vertical-align: top;\n",
       "    }\n",
       "\n",
       "    .dataframe thead th {\n",
       "        text-align: right;\n",
       "    }\n",
       "</style>\n",
       "<table border=\"1\" class=\"dataframe\">\n",
       "  <thead>\n",
       "    <tr style=\"text-align: right;\">\n",
       "      <th></th>\n",
       "      <th>X10</th>\n",
       "      <th>X12</th>\n",
       "      <th>X13</th>\n",
       "      <th>X14</th>\n",
       "      <th>X15</th>\n",
       "      <th>X16</th>\n",
       "      <th>X17</th>\n",
       "      <th>X18</th>\n",
       "      <th>X19</th>\n",
       "      <th>X20</th>\n",
       "      <th>...</th>\n",
       "      <th>X373</th>\n",
       "      <th>X374</th>\n",
       "      <th>X375</th>\n",
       "      <th>X376</th>\n",
       "      <th>X377</th>\n",
       "      <th>X378</th>\n",
       "      <th>X379</th>\n",
       "      <th>X380</th>\n",
       "      <th>X383</th>\n",
       "      <th>X384</th>\n",
       "    </tr>\n",
       "  </thead>\n",
       "  <tbody>\n",
       "    <tr>\n",
       "      <td>0</td>\n",
       "      <td>0</td>\n",
       "      <td>0</td>\n",
       "      <td>1</td>\n",
       "      <td>0</td>\n",
       "      <td>0</td>\n",
       "      <td>0</td>\n",
       "      <td>0</td>\n",
       "      <td>1</td>\n",
       "      <td>0</td>\n",
       "      <td>0</td>\n",
       "      <td>...</td>\n",
       "      <td>0</td>\n",
       "      <td>0</td>\n",
       "      <td>0</td>\n",
       "      <td>0</td>\n",
       "      <td>1</td>\n",
       "      <td>0</td>\n",
       "      <td>0</td>\n",
       "      <td>0</td>\n",
       "      <td>0</td>\n",
       "      <td>0</td>\n",
       "    </tr>\n",
       "    <tr>\n",
       "      <td>1</td>\n",
       "      <td>0</td>\n",
       "      <td>0</td>\n",
       "      <td>0</td>\n",
       "      <td>0</td>\n",
       "      <td>0</td>\n",
       "      <td>0</td>\n",
       "      <td>0</td>\n",
       "      <td>1</td>\n",
       "      <td>0</td>\n",
       "      <td>0</td>\n",
       "      <td>...</td>\n",
       "      <td>0</td>\n",
       "      <td>0</td>\n",
       "      <td>1</td>\n",
       "      <td>0</td>\n",
       "      <td>0</td>\n",
       "      <td>0</td>\n",
       "      <td>0</td>\n",
       "      <td>0</td>\n",
       "      <td>0</td>\n",
       "      <td>0</td>\n",
       "    </tr>\n",
       "    <tr>\n",
       "      <td>2</td>\n",
       "      <td>0</td>\n",
       "      <td>0</td>\n",
       "      <td>0</td>\n",
       "      <td>0</td>\n",
       "      <td>0</td>\n",
       "      <td>0</td>\n",
       "      <td>1</td>\n",
       "      <td>0</td>\n",
       "      <td>0</td>\n",
       "      <td>0</td>\n",
       "      <td>...</td>\n",
       "      <td>0</td>\n",
       "      <td>0</td>\n",
       "      <td>0</td>\n",
       "      <td>0</td>\n",
       "      <td>0</td>\n",
       "      <td>0</td>\n",
       "      <td>0</td>\n",
       "      <td>0</td>\n",
       "      <td>0</td>\n",
       "      <td>0</td>\n",
       "    </tr>\n",
       "    <tr>\n",
       "      <td>3</td>\n",
       "      <td>0</td>\n",
       "      <td>0</td>\n",
       "      <td>0</td>\n",
       "      <td>0</td>\n",
       "      <td>0</td>\n",
       "      <td>0</td>\n",
       "      <td>0</td>\n",
       "      <td>0</td>\n",
       "      <td>0</td>\n",
       "      <td>0</td>\n",
       "      <td>...</td>\n",
       "      <td>0</td>\n",
       "      <td>0</td>\n",
       "      <td>0</td>\n",
       "      <td>0</td>\n",
       "      <td>0</td>\n",
       "      <td>0</td>\n",
       "      <td>0</td>\n",
       "      <td>0</td>\n",
       "      <td>0</td>\n",
       "      <td>0</td>\n",
       "    </tr>\n",
       "    <tr>\n",
       "      <td>4</td>\n",
       "      <td>0</td>\n",
       "      <td>0</td>\n",
       "      <td>0</td>\n",
       "      <td>0</td>\n",
       "      <td>0</td>\n",
       "      <td>0</td>\n",
       "      <td>0</td>\n",
       "      <td>0</td>\n",
       "      <td>0</td>\n",
       "      <td>0</td>\n",
       "      <td>...</td>\n",
       "      <td>0</td>\n",
       "      <td>0</td>\n",
       "      <td>0</td>\n",
       "      <td>0</td>\n",
       "      <td>0</td>\n",
       "      <td>0</td>\n",
       "      <td>0</td>\n",
       "      <td>0</td>\n",
       "      <td>0</td>\n",
       "      <td>0</td>\n",
       "    </tr>\n",
       "  </tbody>\n",
       "</table>\n",
       "<p>5 rows × 310 columns</p>\n",
       "</div>"
      ],
      "text/plain": [
       "   X10  X12  X13  X14  X15  X16  X17  X18  X19  X20  ...  X373  X374  X375  \\\n",
       "0    0    0    1    0    0    0    0    1    0    0  ...     0     0     0   \n",
       "1    0    0    0    0    0    0    0    1    0    0  ...     0     0     1   \n",
       "2    0    0    0    0    0    0    1    0    0    0  ...     0     0     0   \n",
       "3    0    0    0    0    0    0    0    0    0    0  ...     0     0     0   \n",
       "4    0    0    0    0    0    0    0    0    0    0  ...     0     0     0   \n",
       "\n",
       "   X376  X377  X378  X379  X380  X383  X384  \n",
       "0     0     1     0     0     0     0     0  \n",
       "1     0     0     0     0     0     0     0  \n",
       "2     0     0     0     0     0     0     0  \n",
       "3     0     0     0     0     0     0     0  \n",
       "4     0     0     0     0     0     0     0  \n",
       "\n",
       "[5 rows x 310 columns]"
      ]
     },
     "execution_count": 9,
     "metadata": {},
     "output_type": "execute_result"
    }
   ],
   "source": [
    "print(X_train_num.shape)\n",
    "X_train_num.head()"
   ]
  },
  {
   "cell_type": "markdown",
   "metadata": {},
   "source": [
    "## Preparing Test Dataset"
   ]
  },
  {
   "cell_type": "code",
   "execution_count": 10,
   "metadata": {},
   "outputs": [
    {
     "name": "stdout",
     "output_type": "stream",
     "text": [
      "(4209, 377)\n"
     ]
    },
    {
     "data": {
      "text/html": [
       "<div>\n",
       "<style scoped>\n",
       "    .dataframe tbody tr th:only-of-type {\n",
       "        vertical-align: middle;\n",
       "    }\n",
       "\n",
       "    .dataframe tbody tr th {\n",
       "        vertical-align: top;\n",
       "    }\n",
       "\n",
       "    .dataframe thead th {\n",
       "        text-align: right;\n",
       "    }\n",
       "</style>\n",
       "<table border=\"1\" class=\"dataframe\">\n",
       "  <thead>\n",
       "    <tr style=\"text-align: right;\">\n",
       "      <th></th>\n",
       "      <th>ID</th>\n",
       "      <th>X0</th>\n",
       "      <th>X1</th>\n",
       "      <th>X2</th>\n",
       "      <th>X3</th>\n",
       "      <th>X4</th>\n",
       "      <th>X5</th>\n",
       "      <th>X6</th>\n",
       "      <th>X8</th>\n",
       "      <th>X10</th>\n",
       "      <th>...</th>\n",
       "      <th>X375</th>\n",
       "      <th>X376</th>\n",
       "      <th>X377</th>\n",
       "      <th>X378</th>\n",
       "      <th>X379</th>\n",
       "      <th>X380</th>\n",
       "      <th>X382</th>\n",
       "      <th>X383</th>\n",
       "      <th>X384</th>\n",
       "      <th>X385</th>\n",
       "    </tr>\n",
       "  </thead>\n",
       "  <tbody>\n",
       "    <tr>\n",
       "      <td>0</td>\n",
       "      <td>1</td>\n",
       "      <td>az</td>\n",
       "      <td>v</td>\n",
       "      <td>n</td>\n",
       "      <td>f</td>\n",
       "      <td>d</td>\n",
       "      <td>t</td>\n",
       "      <td>a</td>\n",
       "      <td>w</td>\n",
       "      <td>0</td>\n",
       "      <td>...</td>\n",
       "      <td>0</td>\n",
       "      <td>0</td>\n",
       "      <td>0</td>\n",
       "      <td>1</td>\n",
       "      <td>0</td>\n",
       "      <td>0</td>\n",
       "      <td>0</td>\n",
       "      <td>0</td>\n",
       "      <td>0</td>\n",
       "      <td>0</td>\n",
       "    </tr>\n",
       "    <tr>\n",
       "      <td>1</td>\n",
       "      <td>2</td>\n",
       "      <td>t</td>\n",
       "      <td>b</td>\n",
       "      <td>ai</td>\n",
       "      <td>a</td>\n",
       "      <td>d</td>\n",
       "      <td>b</td>\n",
       "      <td>g</td>\n",
       "      <td>y</td>\n",
       "      <td>0</td>\n",
       "      <td>...</td>\n",
       "      <td>0</td>\n",
       "      <td>0</td>\n",
       "      <td>1</td>\n",
       "      <td>0</td>\n",
       "      <td>0</td>\n",
       "      <td>0</td>\n",
       "      <td>0</td>\n",
       "      <td>0</td>\n",
       "      <td>0</td>\n",
       "      <td>0</td>\n",
       "    </tr>\n",
       "    <tr>\n",
       "      <td>2</td>\n",
       "      <td>3</td>\n",
       "      <td>az</td>\n",
       "      <td>v</td>\n",
       "      <td>as</td>\n",
       "      <td>f</td>\n",
       "      <td>d</td>\n",
       "      <td>a</td>\n",
       "      <td>j</td>\n",
       "      <td>j</td>\n",
       "      <td>0</td>\n",
       "      <td>...</td>\n",
       "      <td>0</td>\n",
       "      <td>0</td>\n",
       "      <td>0</td>\n",
       "      <td>1</td>\n",
       "      <td>0</td>\n",
       "      <td>0</td>\n",
       "      <td>0</td>\n",
       "      <td>0</td>\n",
       "      <td>0</td>\n",
       "      <td>0</td>\n",
       "    </tr>\n",
       "    <tr>\n",
       "      <td>3</td>\n",
       "      <td>4</td>\n",
       "      <td>az</td>\n",
       "      <td>l</td>\n",
       "      <td>n</td>\n",
       "      <td>f</td>\n",
       "      <td>d</td>\n",
       "      <td>z</td>\n",
       "      <td>l</td>\n",
       "      <td>n</td>\n",
       "      <td>0</td>\n",
       "      <td>...</td>\n",
       "      <td>0</td>\n",
       "      <td>0</td>\n",
       "      <td>0</td>\n",
       "      <td>1</td>\n",
       "      <td>0</td>\n",
       "      <td>0</td>\n",
       "      <td>0</td>\n",
       "      <td>0</td>\n",
       "      <td>0</td>\n",
       "      <td>0</td>\n",
       "    </tr>\n",
       "    <tr>\n",
       "      <td>4</td>\n",
       "      <td>5</td>\n",
       "      <td>w</td>\n",
       "      <td>s</td>\n",
       "      <td>as</td>\n",
       "      <td>c</td>\n",
       "      <td>d</td>\n",
       "      <td>y</td>\n",
       "      <td>i</td>\n",
       "      <td>m</td>\n",
       "      <td>0</td>\n",
       "      <td>...</td>\n",
       "      <td>1</td>\n",
       "      <td>0</td>\n",
       "      <td>0</td>\n",
       "      <td>0</td>\n",
       "      <td>0</td>\n",
       "      <td>0</td>\n",
       "      <td>0</td>\n",
       "      <td>0</td>\n",
       "      <td>0</td>\n",
       "      <td>0</td>\n",
       "    </tr>\n",
       "  </tbody>\n",
       "</table>\n",
       "<p>5 rows × 377 columns</p>\n",
       "</div>"
      ],
      "text/plain": [
       "   ID  X0 X1  X2 X3 X4 X5 X6 X8  X10  ...  X375  X376  X377  X378  X379  X380  \\\n",
       "0   1  az  v   n  f  d  t  a  w    0  ...     0     0     0     1     0     0   \n",
       "1   2   t  b  ai  a  d  b  g  y    0  ...     0     0     1     0     0     0   \n",
       "2   3  az  v  as  f  d  a  j  j    0  ...     0     0     0     1     0     0   \n",
       "3   4  az  l   n  f  d  z  l  n    0  ...     0     0     0     1     0     0   \n",
       "4   5   w  s  as  c  d  y  i  m    0  ...     1     0     0     0     0     0   \n",
       "\n",
       "   X382  X383  X384  X385  \n",
       "0     0     0     0     0  \n",
       "1     0     0     0     0  \n",
       "2     0     0     0     0  \n",
       "3     0     0     0     0  \n",
       "4     0     0     0     0  \n",
       "\n",
       "[5 rows x 377 columns]"
      ]
     },
     "execution_count": 10,
     "metadata": {},
     "output_type": "execute_result"
    }
   ],
   "source": [
    "test_df = pd.read_csv(\"test.csv\")\n",
    "print(test_df.shape)\n",
    "test_df.head()"
   ]
  },
  {
   "cell_type": "code",
   "execution_count": 11,
   "metadata": {},
   "outputs": [],
   "source": [
    "ID = test_df[\"ID\"]\n",
    "test_df.drop(columns=[\"ID\"], inplace=True)\n",
    "X_test = test_df"
   ]
  },
  {
   "cell_type": "code",
   "execution_count": 12,
   "metadata": {},
   "outputs": [
    {
     "name": "stdout",
     "output_type": "stream",
     "text": [
      "(4209, 310)\n",
      "(4209, 310)\n"
     ]
    }
   ],
   "source": [
    "test_df_modified = test_df.drop(rem_cols, axis=1)\n",
    "X_test_num = test_df_modified.loc[:,test_df.dtypes==np.int64]\n",
    "print(test_df_modified.shape)\n",
    "print(X_test_num.shape)"
   ]
  },
  {
   "cell_type": "code",
   "execution_count": 13,
   "metadata": {},
   "outputs": [
    {
     "name": "stdout",
     "output_type": "stream",
     "text": [
      "Final feature matrix:\n",
      "(4194, 310)\n",
      "(4209, 310)\n"
     ]
    }
   ],
   "source": [
    "from scipy.sparse import hstack\n",
    "print('Final feature matrix:')\n",
    "X_train_le = X_train_num\n",
    "print(X_train_le.shape)\n",
    "X_test_le = X_test_num\n",
    "print(X_test_le.shape)"
   ]
  },
  {
   "cell_type": "markdown",
   "metadata": {},
   "source": [
    "## Featurization"
   ]
  },
  {
   "cell_type": "markdown",
   "metadata": {},
   "source": [
    "### Adding PCA Features"
   ]
  },
  {
   "cell_type": "code",
   "execution_count": 14,
   "metadata": {},
   "outputs": [
    {
     "name": "stdout",
     "output_type": "stream",
     "text": [
      "(4194, 310)\n",
      "(4209, 310)\n"
     ]
    }
   ],
   "source": [
    "standardized_data_tr = StandardScaler().fit_transform(X_train_num)\n",
    "standardized_data_te = StandardScaler().fit_transform(X_test_num)\n",
    "print(standardized_data_tr.shape)\n",
    "print(standardized_data_te.shape)"
   ]
  },
  {
   "cell_type": "code",
   "execution_count": 15,
   "metadata": {},
   "outputs": [
    {
     "name": "stdout",
     "output_type": "stream",
     "text": [
      "Before Transformation: \n",
      "(4194, 310)\n",
      "(4209, 310)\n",
      "After Transformation:\n",
      "(4194, 6)\n",
      "(4209, 6)\n"
     ]
    }
   ],
   "source": [
    "# https://blog.goodaudience.com/stacking-ml-algorithm-for-mercedes-benz-greener-manufacturing-competition-5600762186ae\n",
    "# https://medium.com/@williamkoehrsen/capstone-project-mercedes-benz-greener-manufacturing-competition-4798153e2476\n",
    "pca = PCA()\n",
    "pca.n_components = 6\n",
    "print(\"Before Transformation: \")\n",
    "print(standardized_data_tr.shape)\n",
    "print(standardized_data_te.shape)\n",
    "pca_data_tr = pca.fit_transform(standardized_data_tr)\n",
    "pca_data_te = pca.transform(standardized_data_te)\n",
    "print(\"After Transformation:\")\n",
    "print(pca_data_tr.shape)\n",
    "print(pca_data_te.shape)"
   ]
  },
  {
   "cell_type": "code",
   "execution_count": 16,
   "metadata": {},
   "outputs": [],
   "source": [
    "train_df_modified_pca = train_df_modified.copy()\n",
    "train_df_modified_pca[\"PCA_1\"] = pca_data_tr[:,0]\n",
    "train_df_modified_pca[\"PCA_2\"] = pca_data_tr[:,1]\n",
    "train_df_modified_pca[\"PCA_3\"] = pca_data_tr[:,2]\n",
    "train_df_modified_pca[\"PCA_4\"] = pca_data_tr[:,3]\n",
    "train_df_modified_pca[\"PCA_5\"] = pca_data_tr[:,4]\n",
    "train_df_modified_pca[\"PCA_6\"] = pca_data_tr[:,5]\n",
    "test_df_modified_pca = test_df_modified.copy()\n",
    "test_df_modified_pca[\"PCA_1\"] = pca_data_te[:,0]\n",
    "test_df_modified_pca[\"PCA_2\"] = pca_data_te[:,1]\n",
    "test_df_modified_pca[\"PCA_3\"] = pca_data_te[:,2]\n",
    "test_df_modified_pca[\"PCA_4\"] = pca_data_te[:,3]\n",
    "test_df_modified_pca[\"PCA_5\"] = pca_data_te[:,4]\n",
    "test_df_modified_pca[\"PCA_6\"] = pca_data_te[:,5]"
   ]
  },
  {
   "cell_type": "markdown",
   "metadata": {},
   "source": [
    "### Finalizing PCA Features and combining it"
   ]
  },
  {
   "cell_type": "code",
   "execution_count": 17,
   "metadata": {},
   "outputs": [
    {
     "name": "stdout",
     "output_type": "stream",
     "text": [
      "PCA matrix:\n",
      "(4194, 316)\n",
      "(4209, 316)\n"
     ]
    }
   ],
   "source": [
    "print('PCA matrix:')\n",
    "X_train_le_PCA = hstack((X_train_le,pca_data_tr)).tocsr()\n",
    "print(X_train_le_PCA.shape)\n",
    "X_test_le_PCA = hstack((X_test_le,pca_data_te)).tocsr()\n",
    "print(X_test_le_PCA.shape)"
   ]
  },
  {
   "cell_type": "markdown",
   "metadata": {},
   "source": [
    "### Featurizing 2-way and 3-way feature interaction"
   ]
  },
  {
   "cell_type": "code",
   "execution_count": 18,
   "metadata": {},
   "outputs": [],
   "source": [
    "# https://www.kaggle.com/c/mercedes-benz-greener-manufacturing/discussion/37700\n",
    "# https://www.kaggle.com/anubhav3377/17th-place-solution-private-score-0-55378\n",
    "# taking X314 and X315\n",
    "train_df_modified[\"X314_plus_X315\"] = train_df_modified.apply(lambda row: row.X314 + row.X315, axis=1)\n",
    "test_df_modified['X314_plus_X315'] = test_df_modified.apply(lambda row: row.X314 + row.X315, axis=1)\n",
    "train_df_modified_pca['X314_plus_X315'] = train_df_modified.apply(lambda row: row.X314 + row.X315, axis=1)\n",
    "test_df_modified_pca['X314_plus_X315'] = test_df_modified.apply(lambda row: row.X314 + row.X315, axis=1)\n",
    "# taking X314, X315 and X118\n",
    "train_df_modified['X118_plus_X314_plus_X315'] = train_df_modified.apply(lambda row: row.X118 + row.X314 + row.X315, axis=1)\n",
    "test_df_modified['X118_plus_X314_plus_X315'] = test_df_modified.apply(lambda row: row.X118 + row.X314 + row.X315, axis=1)\n",
    "train_df_modified_pca['X118_plus_X314_plus_X315'] = train_df_modified.apply(lambda row: row.X118 + row.X314 + row.X315, axis=1)\n",
    "test_df_modified_pca['X118_plus_X314_plus_X315'] = test_df_modified.apply(lambda row: row.X118 + row.X314 + row.X315, axis=1)\n",
    "# taking X118 and X263\n",
    "train_df_modified['X118_plus_X263'] = train_df_modified.apply(lambda row: row.X118 + row.X263, axis=1)\n",
    "test_df_modified['X118_plus_X263'] = test_df_modified.apply(lambda row: row.X118 + row.X263, axis=1)\n",
    "train_df_modified_pca['X118_plus_X263'] = train_df_modified.apply(lambda row: row.X118 + row.X263, axis=1)\n",
    "test_df_modified_pca['X118_plus_X263'] = test_df_modified.apply(lambda row: row.X118 + row.X263, axis=1)\n",
    "# taking X29, X118 and X263\n",
    "train_df_modified['X29_plus_X118_plus_X263'] = train_df_modified.apply(lambda row: row.X29 + row.X118 + row.X263, axis=1)\n",
    "test_df_modified['X29_plus_X118_plus_X263'] = test_df_modified.apply(lambda row: row.X29 + row.X118 + row.X263, axis=1)\n",
    "train_df_modified_pca['X29_plus_X118_plus_X263'] = train_df_modified.apply(lambda row: row.X29 + row.X118 + row.X263, axis=1)\n",
    "test_df_modified_pca['X29_plus_X118_plus_X263'] = test_df_modified.apply(lambda row: row.X29 + row.X118 + row.X263, axis=1)"
   ]
  },
  {
   "cell_type": "markdown",
   "metadata": {},
   "source": [
    "### Finalizing interaction features"
   ]
  },
  {
   "cell_type": "code",
   "execution_count": 19,
   "metadata": {},
   "outputs": [
    {
     "name": "stdout",
     "output_type": "stream",
     "text": [
      "interaction Matrix:\n",
      "(4194, 314)\n",
      "(4209, 314)\n"
     ]
    }
   ],
   "source": [
    "print('interaction Matrix:')\n",
    "X_train_le_corr = hstack((X_train_le,train_df_modified['X314_plus_X315'].values.reshape(-1,1),train_df_modified['X118_plus_X314_plus_X315'].values.reshape(-1,1),train_df_modified['X118_plus_X263'].values.reshape(-1,1),train_df_modified['X29_plus_X118_plus_X263'].values.reshape(-1,1))).tocsr()\n",
    "print(X_train_le_corr.shape)\n",
    "X_test_le_corr = hstack((X_test_le,test_df_modified['X314_plus_X315'].values.reshape(-1,1),test_df_modified['X118_plus_X314_plus_X315'].values.reshape(-1,1),test_df_modified['X118_plus_X263'].values.reshape(-1,1),test_df_modified['X29_plus_X118_plus_X263'].values.reshape(-1,1))).tocsr()\n",
    "print(X_test_le_corr.shape)"
   ]
  },
  {
   "cell_type": "markdown",
   "metadata": {},
   "source": [
    "### Adding interaction features to PCA features and Train/Test Data"
   ]
  },
  {
   "cell_type": "code",
   "execution_count": 20,
   "metadata": {},
   "outputs": [
    {
     "name": "stdout",
     "output_type": "stream",
     "text": [
      "interaction + PCA Matrix:\n",
      "(4194, 320)\n",
      "(4209, 320)\n"
     ]
    }
   ],
   "source": [
    "print('interaction + PCA Matrix:')\n",
    "X_train_le_PCA_corr = hstack((X_train_le_PCA,train_df_modified['X314_plus_X315'].values.reshape(-1,1),train_df_modified['X118_plus_X314_plus_X315'].values.reshape(-1,1),train_df_modified['X118_plus_X263'].values.reshape(-1,1),train_df_modified['X29_plus_X118_plus_X263'].values.reshape(-1,1))).tocsr()\n",
    "print(X_train_le_PCA_corr.shape)\n",
    "X_test_le_PCA_corr = hstack((X_test_le_PCA,test_df_modified['X314_plus_X315'].values.reshape(-1,1),test_df_modified['X118_plus_X314_plus_X315'].values.reshape(-1,1),test_df_modified['X118_plus_X263'].values.reshape(-1,1),test_df_modified['X29_plus_X118_plus_X263'].values.reshape(-1,1))).tocsr()\n",
    "print(X_test_le_PCA_corr.shape)"
   ]
  },
  {
   "cell_type": "markdown",
   "metadata": {},
   "source": [
    "### featurized dataset:\n",
    "\n",
    "##### Label Encoding + PCA +  Interaction Features:\n",
    "1. X_train_le_PCA_corr\n",
    "2. X_test_le_PCA_corr"
   ]
  },
  {
   "cell_type": "markdown",
   "metadata": {},
   "source": [
    "# Modelling"
   ]
  },
  {
   "cell_type": "markdown",
   "metadata": {},
   "source": [
    "## RandomForestRegressor"
   ]
  },
  {
   "cell_type": "markdown",
   "metadata": {},
   "source": [
    "### Label Encoding + PCA + Interaction Features"
   ]
  },
  {
   "cell_type": "code",
   "execution_count": 21,
   "metadata": {},
   "outputs": [
    {
     "name": "stdout",
     "output_type": "stream",
     "text": [
      "Fitting 10 folds for each of 10 candidates, totalling 100 fits\n"
     ]
    },
    {
     "name": "stderr",
     "output_type": "stream",
     "text": [
      "[Parallel(n_jobs=-1)]: Using backend LokyBackend with 8 concurrent workers.\n",
      "[Parallel(n_jobs=-1)]: Done   2 tasks      | elapsed:    8.6s\n",
      "[Parallel(n_jobs=-1)]: Done  56 tasks      | elapsed:  1.2min\n",
      "[Parallel(n_jobs=-1)]: Done 100 out of 100 | elapsed:  3.7min finished\n"
     ]
    },
    {
     "name": "stdout",
     "output_type": "stream",
     "text": [
      "CPU times: user 4.69 s, sys: 177 ms, total: 4.87 s\n",
      "Wall time: 3min 45s\n"
     ]
    },
    {
     "data": {
      "text/plain": [
       "RandomizedSearchCV(cv=10, error_score=nan,\n",
       "                   estimator=RandomForestRegressor(bootstrap=True,\n",
       "                                                   ccp_alpha=0.0,\n",
       "                                                   criterion='mse',\n",
       "                                                   max_depth=None,\n",
       "                                                   max_features='auto',\n",
       "                                                   max_leaf_nodes=None,\n",
       "                                                   max_samples=None,\n",
       "                                                   min_impurity_decrease=0.0,\n",
       "                                                   min_impurity_split=None,\n",
       "                                                   min_samples_leaf=1,\n",
       "                                                   min_samples_split=2,\n",
       "                                                   min_weight_fraction_leaf=0.0,\n",
       "                                                   n_estimators=100, n_jobs=-1,\n",
       "                                                   oob_score=False...\n",
       "                   iid='deprecated', n_iter=10, n_jobs=-1,\n",
       "                   param_distributions={'max_depth': [1, 2, 3, 5, 7, 10],\n",
       "                                        'max_features': [0.95],\n",
       "                                        'min_samples_leaf': [1, 2, 3, 4, 5, 6,\n",
       "                                                             7, 8, 9],\n",
       "                                        'min_samples_split': [2, 3, 4, 5, 6, 7,\n",
       "                                                              8, 9, 10],\n",
       "                                        'n_estimators': [100, 150, 200, 300,\n",
       "                                                         350, 500],\n",
       "                                        'random_state': [30, 42]},\n",
       "                   pre_dispatch='2*n_jobs', random_state=None, refit=True,\n",
       "                   return_train_score=True, scoring='r2', verbose=5)"
      ]
     },
     "execution_count": 21,
     "metadata": {},
     "output_type": "execute_result"
    }
   ],
   "source": [
    "%%time\n",
    "neigh=RandomForestRegressor(random_state=42, n_jobs=-1)\n",
    "parameters = {'n_estimators':[100,150,200,300,350,500],\n",
    "             'max_depth':[1,2,3,5,7,10],\n",
    "             'min_samples_split':[2,3,4,5,6,7,8,9,10],\n",
    "             'max_features': [0.95],\n",
    "             'min_samples_leaf': [1, 2,3,4,5,6,7,8,9],\n",
    "             'random_state':[30,42]}\n",
    "clf=RandomizedSearchCV(neigh,parameters,cv=10,scoring='r2',return_train_score=True,n_jobs=-1,verbose=5)\n",
    "clf.fit(X_train_le_PCA_corr,Y_train)"
   ]
  },
  {
   "cell_type": "code",
   "execution_count": 22,
   "metadata": {},
   "outputs": [],
   "source": [
    "results = pd.DataFrame.from_dict(clf.cv_results_)\n",
    "train_r2 = results[\"mean_train_score\"]\n",
    "cv_r2 = results[\"mean_test_score\"]"
   ]
  },
  {
   "cell_type": "code",
   "execution_count": 23,
   "metadata": {},
   "outputs": [
    {
     "data": {
      "image/png": "[encoded data removed]",
      "text/plain": [
       "<Figure size 720x504 with 1 Axes>"
      ]
     },
     "metadata": {
      "needs_background": "light"
     },
     "output_type": "display_data"
    },
    {
     "name": "stdout",
     "output_type": "stream",
     "text": [
      "0.6247685899553609\n"
     ]
    }
   ],
   "source": [
    "candidates = list(range(1,11))\n",
    "plt.figure(figsize=(10, 7))\n",
    "plt.plot(candidates, train_r2, label=\"train\")\n",
    "plt.plot(candidates, cv_r2, label=\"CV\")\n",
    "plt.scatter(candidates, train_r2, label=\"train points\")\n",
    "plt.scatter(candidates, cv_r2, label=\"cv points\")\n",
    "plt.legend()\n",
    "plt.grid()\n",
    "plt.show()\n",
    "print(clf.best_score_)"
   ]
  },
  {
   "cell_type": "code",
   "execution_count": 24,
   "metadata": {},
   "outputs": [
    {
     "data": {
      "text/plain": [
       "RandomForestRegressor(bootstrap=True, ccp_alpha=0.0, criterion='mse',\n",
       "                      max_depth=3, max_features=0.95, max_leaf_nodes=None,\n",
       "                      max_samples=None, min_impurity_decrease=0.0,\n",
       "                      min_impurity_split=None, min_samples_leaf=5,\n",
       "                      min_samples_split=8, min_weight_fraction_leaf=0.0,\n",
       "                      n_estimators=150, n_jobs=-1, oob_score=False,\n",
       "                      random_state=30, verbose=0, warm_start=False)"
      ]
     },
     "execution_count": 24,
     "metadata": {},
     "output_type": "execute_result"
    }
   ],
   "source": [
    "clf.best_estimator_"
   ]
  },
  {
   "cell_type": "code",
   "execution_count": 25,
   "metadata": {},
   "outputs": [
    {
     "data": {
      "text/plain": [
       "RandomForestRegressor(bootstrap=True, ccp_alpha=0.0, criterion='mse',\n",
       "                      max_depth=3, max_features=0.95, max_leaf_nodes=None,\n",
       "                      max_samples=None, min_impurity_decrease=0.0,\n",
       "                      min_impurity_split=None, min_samples_leaf=5,\n",
       "                      min_samples_split=8, min_weight_fraction_leaf=0.0,\n",
       "                      n_estimators=150, n_jobs=-1, oob_score=False,\n",
       "                      random_state=30, verbose=0, warm_start=False)"
      ]
     },
     "execution_count": 25,
     "metadata": {},
     "output_type": "execute_result"
    }
   ],
   "source": [
    "model_rf_le_PCA_corr = clf.best_estimator_\n",
    "model_rf_le_PCA_corr.fit(X_train_le_PCA_corr, Y_train)"
   ]
  },
  {
   "cell_type": "code",
   "execution_count": 26,
   "metadata": {},
   "outputs": [],
   "source": [
    "pred_test_rf = model_rf_le_PCA_corr.predict(X_test_le_PCA_corr)"
   ]
  },
  {
   "cell_type": "code",
   "execution_count": 27,
   "metadata": {},
   "outputs": [],
   "source": [
    "submission_rf = pd.DataFrame()\n",
    "submission_rf[\"ID\"] = ID\n",
    "submission_rf[\"y\"] = pred_test_rf\n",
    "submission_rf.to_csv(\"submission_rf_le_PCA_corr.csv\",index=False)"
   ]
  },
  {
   "cell_type": "markdown",
   "metadata": {},
   "source": [
    "### Summary of Random Forest Models"
   ]
  },
  {
   "cell_type": "code",
   "execution_count": 28,
   "metadata": {},
   "outputs": [
    {
     "name": "stdout",
     "output_type": "stream",
     "text": [
      "+---------------------------------+---------------+--------------+\n",
      "|            Model Name           | Private Score | Public Score |\n",
      "+---------------------------------+---------------+--------------+\n",
      "| RF + PCA + interaction features |    0.54897    |   0.55453    |\n",
      "+---------------------------------+---------------+--------------+\n"
     ]
    }
   ],
   "source": [
    "from prettytable import PrettyTable\n",
    "    \n",
    "x = PrettyTable()\n",
    "\n",
    "x.field_names = [\"Model Name\",\"Private Score\", \"Public Score\"]\n",
    "\n",
    "x.add_row([\"RF + PCA + interaction features\", 0.54897, 0.55453])\n",
    "\n",
    "\n",
    "print(x)"
   ]
  },
  {
   "cell_type": "markdown",
   "metadata": {},
   "source": [
    "1. This model was previously our 2nd best model. \n",
    "2. As we can see that, score is lower than previous results. So, there is no improvement in this.\n",
    "3. Let's try our best model now which is stacking model (Random Forest + XGBoost + ExtraTree)"
   ]
  },
  {
   "cell_type": "markdown",
   "metadata": {},
   "source": [
    "## XGBRegressor"
   ]
  },
  {
   "cell_type": "code",
   "execution_count": 29,
   "metadata": {},
   "outputs": [],
   "source": [
    "from xgboost import XGBRegressor"
   ]
  },
  {
   "cell_type": "markdown",
   "metadata": {},
   "source": [
    "### Label Encoding + PCA + interaction features"
   ]
  },
  {
   "cell_type": "code",
   "execution_count": 30,
   "metadata": {},
   "outputs": [
    {
     "name": "stdout",
     "output_type": "stream",
     "text": [
      "Fitting 10 folds for each of 10 candidates, totalling 100 fits\n"
     ]
    },
    {
     "name": "stderr",
     "output_type": "stream",
     "text": [
      "[Parallel(n_jobs=-1)]: Using backend LokyBackend with 8 concurrent workers.\n",
      "[Parallel(n_jobs=-1)]: Done   2 tasks      | elapsed:    2.7s\n",
      "[Parallel(n_jobs=-1)]: Done  56 tasks      | elapsed:   45.9s\n",
      "[Parallel(n_jobs=-1)]: Done 100 out of 100 | elapsed:  1.1min finished\n"
     ]
    },
    {
     "name": "stdout",
     "output_type": "stream",
     "text": [
      "[15:48:53] WARNING: src/objective/regression_obj.cu:152: reg:linear is now deprecated in favor of reg:squarederror.\n",
      "CPU times: user 4.5 s, sys: 72.7 ms, total: 4.57 s\n",
      "Wall time: 1min 5s\n"
     ]
    },
    {
     "data": {
      "text/plain": [
       "RandomizedSearchCV(cv=10, error_score=nan,\n",
       "                   estimator=XGBRegressor(base_score=0.5, booster='gbtree',\n",
       "                                          colsample_bylevel=1,\n",
       "                                          colsample_bynode=1,\n",
       "                                          colsample_bytree=1, gamma=0,\n",
       "                                          importance_type='gain',\n",
       "                                          learning_rate=0.1, max_delta_step=0,\n",
       "                                          max_depth=3, min_child_weight=1,\n",
       "                                          missing=None, n_estimators=100,\n",
       "                                          n_jobs=-1, nthread=None,\n",
       "                                          objective='reg:linear',\n",
       "                                          random_state=42, reg_alp...\n",
       "                   param_distributions={'colsample_bytree': [0.1, 0.5, 0.7, 1],\n",
       "                                        'gamma': [0.01, 0.001, 0, 0.1, 0.01,\n",
       "                                                  0.5, 1],\n",
       "                                        'learning_rate': [0.001, 0.01, 0.05,\n",
       "                                                          0.1, 1],\n",
       "                                        'max_depth': [2, 3, 5, 10],\n",
       "                                        'n_estimators': [100, 150, 200, 500],\n",
       "                                        'reg_alpha': [1e-05, 0.001, 0.1, 1,\n",
       "                                                      10.0],\n",
       "                                        'subsample': [0.2, 0.3, 0.5, 1]},\n",
       "                   pre_dispatch='2*n_jobs', random_state=None, refit=True,\n",
       "                   return_train_score=True, scoring='r2', verbose=5)"
      ]
     },
     "execution_count": 30,
     "metadata": {},
     "output_type": "execute_result"
    }
   ],
   "source": [
    "%%time\n",
    "neigh=XGBRegressor(random_state=42,n_jobs=-1)\n",
    "parameters = {'learning_rate':[0.001,0.01,0.05,0.1,1],\n",
    "             'n_estimators':[100,150,200,500],\n",
    "             'max_depth':[2,3,5,10],\n",
    "             'colsample_bytree':[0.1,0.5,0.7,1],\n",
    "             'subsample':[0.2,0.3,0.5,1],\n",
    "             'gamma':[1e-2,1e-3,0,0.1,0.01,0.5,1],\n",
    "             'reg_alpha':[1e-5,1e-3,1e-1,1,1e1]}\n",
    "clf=RandomizedSearchCV(neigh,parameters,cv=10,scoring='r2',return_train_score=True,n_jobs=-1,verbose=5)\n",
    "clf.fit(X_train_le_PCA_corr,Y_train)"
   ]
  },
  {
   "cell_type": "code",
   "execution_count": 31,
   "metadata": {},
   "outputs": [],
   "source": [
    "results=pd.DataFrame.from_dict(clf.cv_results_)\n",
    "train_r2=results['mean_train_score']\n",
    "cv_r2=results['mean_test_score']"
   ]
  },
  {
   "cell_type": "code",
   "execution_count": 32,
   "metadata": {},
   "outputs": [
    {
     "data": {
      "image/png": "[encoded data removed]",
      "text/plain": [
       "<Figure size 1080x504 with 1 Axes>"
      ]
     },
     "metadata": {
      "needs_background": "light"
     },
     "output_type": "display_data"
    },
    {
     "name": "stdout",
     "output_type": "stream",
     "text": [
      "The Best Score 0.6243421311170492\n"
     ]
    }
   ],
   "source": [
    "candidates = list(range(1,11))\n",
    "plt.figure(figsize=(15,7))\n",
    "plt.plot(candidates,train_r2,label='Train')\n",
    "plt.plot(candidates,cv_r2,label='CV')\n",
    "plt.scatter(candidates,train_r2,label='Train Points')\n",
    "plt.scatter(candidates,cv_r2,label='CV Points')\n",
    "plt.legend()\n",
    "plt.xlabel(\"Candidates\")\n",
    "plt.ylabel(\"r2\")\n",
    "plt.grid()\n",
    "plt.show()\n",
    "print(\"The Best Score\",clf.best_score_)"
   ]
  },
  {
   "cell_type": "code",
   "execution_count": 33,
   "metadata": {},
   "outputs": [
    {
     "data": {
      "text/plain": [
       "XGBRegressor(base_score=0.5, booster='gbtree', colsample_bylevel=1,\n",
       "             colsample_bynode=1, colsample_bytree=0.7, gamma=0.001,\n",
       "             importance_type='gain', learning_rate=0.05, max_delta_step=0,\n",
       "             max_depth=2, min_child_weight=1, missing=None, n_estimators=150,\n",
       "             n_jobs=-1, nthread=None, objective='reg:linear', random_state=42,\n",
       "             reg_alpha=0.1, reg_lambda=1, scale_pos_weight=1, seed=None,\n",
       "             silent=None, subsample=0.5, verbosity=1)"
      ]
     },
     "execution_count": 33,
     "metadata": {},
     "output_type": "execute_result"
    }
   ],
   "source": [
    "clf.best_estimator_"
   ]
  },
  {
   "cell_type": "code",
   "execution_count": 34,
   "metadata": {},
   "outputs": [
    {
     "name": "stdout",
     "output_type": "stream",
     "text": [
      "[15:48:54] WARNING: src/objective/regression_obj.cu:152: reg:linear is now deprecated in favor of reg:squarederror.\n"
     ]
    },
    {
     "data": {
      "text/plain": [
       "XGBRegressor(base_score=0.5, booster='gbtree', colsample_bylevel=1,\n",
       "             colsample_bynode=1, colsample_bytree=0.7, gamma=0.001,\n",
       "             importance_type='gain', learning_rate=0.05, max_delta_step=0,\n",
       "             max_depth=2, min_child_weight=1, missing=None, n_estimators=150,\n",
       "             n_jobs=-1, nthread=None, objective='reg:linear', random_state=42,\n",
       "             reg_alpha=0.1, reg_lambda=1, scale_pos_weight=1, seed=None,\n",
       "             silent=None, subsample=0.5, verbosity=1)"
      ]
     },
     "execution_count": 34,
     "metadata": {},
     "output_type": "execute_result"
    }
   ],
   "source": [
    "model_xgb_le_pca_corr = clf.best_estimator_\n",
    "model_xgb_le_pca_corr.fit(X_train_le_PCA_corr, Y_train)"
   ]
  },
  {
   "cell_type": "code",
   "execution_count": 35,
   "metadata": {},
   "outputs": [],
   "source": [
    "pred_test_xgb = model_xgb_le_pca_corr.predict(X_test_le_PCA_corr)"
   ]
  },
  {
   "cell_type": "code",
   "execution_count": 36,
   "metadata": {},
   "outputs": [],
   "source": [
    "submission_xgb_le_pca_corr = pd.DataFrame()\n",
    "submission_xgb_le_pca_corr[\"ID\"] = ID\n",
    "submission_xgb_le_pca_corr[\"y\"] = pred_test_xgb"
   ]
  },
  {
   "cell_type": "code",
   "execution_count": 37,
   "metadata": {},
   "outputs": [],
   "source": [
    "submission_xgb_le_pca_corr.to_csv(\"submission_xgb_le_pca_corr.csv\",index=False)"
   ]
  },
  {
   "cell_type": "markdown",
   "metadata": {},
   "source": [
    "### Summary of XGBRegressor Models"
   ]
  },
  {
   "cell_type": "code",
   "execution_count": 38,
   "metadata": {},
   "outputs": [
    {
     "name": "stdout",
     "output_type": "stream",
     "text": [
      "+----------------------------------+---------------+--------------+\n",
      "|            Model Name            | Private Score | Public Score |\n",
      "+----------------------------------+---------------+--------------+\n",
      "| XGB + PCA + interaction features |    0.54653    |    0.5498    |\n",
      "+----------------------------------+---------------+--------------+\n"
     ]
    }
   ],
   "source": [
    "from prettytable import PrettyTable\n",
    "    \n",
    "x = PrettyTable()\n",
    "\n",
    "x.field_names = [\"Model Name\",\"Private Score\", \"Public Score\"]\n",
    "\n",
    "x.add_row([\"XGB + PCA + interaction features\", 0.54653, 0.54980])\n",
    "\n",
    "\n",
    "print(x)"
   ]
  },
  {
   "cell_type": "markdown",
   "metadata": {},
   "source": [
    "## ExtraTreeRegressor"
   ]
  },
  {
   "cell_type": "markdown",
   "metadata": {},
   "source": [
    "### Label Encoder + PCA + Interaction Features"
   ]
  },
  {
   "cell_type": "code",
   "execution_count": 39,
   "metadata": {},
   "outputs": [
    {
     "name": "stdout",
     "output_type": "stream",
     "text": [
      "Fitting 10 folds for each of 10 candidates, totalling 100 fits\n"
     ]
    },
    {
     "name": "stderr",
     "output_type": "stream",
     "text": [
      "[Parallel(n_jobs=-1)]: Using backend LokyBackend with 8 concurrent workers.\n",
      "[Parallel(n_jobs=-1)]: Done   2 tasks      | elapsed:    3.1s\n",
      "[Parallel(n_jobs=-1)]: Done  56 tasks      | elapsed:   48.2s\n",
      "[Parallel(n_jobs=-1)]: Done 100 out of 100 | elapsed:  1.9min finished\n"
     ]
    },
    {
     "name": "stdout",
     "output_type": "stream",
     "text": [
      "CPU times: user 15.2 s, sys: 173 ms, total: 15.3 s\n",
      "Wall time: 1min 58s\n"
     ]
    },
    {
     "data": {
      "text/plain": [
       "RandomizedSearchCV(cv=10, error_score=nan,\n",
       "                   estimator=ExtraTreesRegressor(bootstrap=False, ccp_alpha=0.0,\n",
       "                                                 criterion='mse',\n",
       "                                                 max_depth=None,\n",
       "                                                 max_features='auto',\n",
       "                                                 max_leaf_nodes=None,\n",
       "                                                 max_samples=None,\n",
       "                                                 min_impurity_decrease=0.0,\n",
       "                                                 min_impurity_split=None,\n",
       "                                                 min_samples_leaf=1,\n",
       "                                                 min_samples_split=2,\n",
       "                                                 min_weight_fraction_leaf=0.0,\n",
       "                                                 n_estimators=100, n_jobs=-1,\n",
       "                                                 oob_score=False,...\n",
       "                   param_distributions={'max_depth': [2, 3, 4, 5, 7, 8, 10],\n",
       "                                        'max_features': [0.95],\n",
       "                                        'min_impurity_decrease': [1e-05, 0.0001,\n",
       "                                                                  0.001, 0.01,\n",
       "                                                                  0.1, 0, 1, 10,\n",
       "                                                                  100],\n",
       "                                        'min_samples_leaf': [3, 4, 5, 6, 7, 8,\n",
       "                                                             10],\n",
       "                                        'min_samples_split': [2, 3, 4, 5, 6, 7,\n",
       "                                                              8, 10],\n",
       "                                        'n_estimators': [150, 200, 300, 350,\n",
       "                                                         400, 500]},\n",
       "                   pre_dispatch='2*n_jobs', random_state=None, refit=True,\n",
       "                   return_train_score=True, scoring='r2', verbose=5)"
      ]
     },
     "execution_count": 39,
     "metadata": {},
     "output_type": "execute_result"
    }
   ],
   "source": [
    "%%time\n",
    "neigh=ExtraTreesRegressor(random_state=42, n_jobs=-1)\n",
    "parameters = {'n_estimators':[150,200,300,350,400,500],\n",
    "             'max_depth':[2,3,4,5,7,8,10],\n",
    "             'min_samples_split':[2,3,4,5,6,7,8,10],\n",
    "             'max_features': [.95],\n",
    "             'min_samples_leaf': [3,4,5,6,7,8,10],\n",
    "             'min_impurity_decrease':[1e-5,1e-4,1e-3,1e-2,1e-1,0,1,10,100]}\n",
    "clf=RandomizedSearchCV(neigh,parameters,cv=10,scoring='r2',return_train_score=True,n_jobs=-1,verbose=5)\n",
    "clf.fit(X_train_le_PCA_corr,Y_train)"
   ]
  },
  {
   "cell_type": "code",
   "execution_count": 40,
   "metadata": {},
   "outputs": [],
   "source": [
    "results=pd.DataFrame.from_dict(clf.cv_results_)\n",
    "train_r2=results['mean_train_score']\n",
    "cv_r2=results['mean_test_score']"
   ]
  },
  {
   "cell_type": "code",
   "execution_count": 41,
   "metadata": {},
   "outputs": [
    {
     "data": {
      "image/png": "[encoded data removed]",
      "text/plain": [
       "<Figure size 1080x504 with 1 Axes>"
      ]
     },
     "metadata": {
      "needs_background": "light"
     },
     "output_type": "display_data"
    },
    {
     "name": "stdout",
     "output_type": "stream",
     "text": [
      "The Best Score 0.6267566868843197\n"
     ]
    }
   ],
   "source": [
    "candidates = list(range(1,11))\n",
    "plt.figure(figsize=(15,7))\n",
    "plt.plot(candidates,train_r2,label='Train')\n",
    "plt.plot(candidates,cv_r2,label='CV')\n",
    "plt.scatter(candidates,train_r2,label='Train Points')\n",
    "plt.scatter(candidates,cv_r2,label='CV Points')\n",
    "plt.legend()\n",
    "plt.xlabel(\"Candidates\")\n",
    "plt.ylabel(\"r2\")\n",
    "plt.grid()\n",
    "plt.show()\n",
    "print(\"The Best Score\",clf.best_score_)"
   ]
  },
  {
   "cell_type": "code",
   "execution_count": 42,
   "metadata": {},
   "outputs": [
    {
     "data": {
      "text/plain": [
       "ExtraTreesRegressor(bootstrap=False, ccp_alpha=0.0, criterion='mse',\n",
       "                    max_depth=4, max_features=0.95, max_leaf_nodes=None,\n",
       "                    max_samples=None, min_impurity_decrease=0.01,\n",
       "                    min_impurity_split=None, min_samples_leaf=6,\n",
       "                    min_samples_split=5, min_weight_fraction_leaf=0.0,\n",
       "                    n_estimators=350, n_jobs=-1, oob_score=False,\n",
       "                    random_state=42, verbose=0, warm_start=False)"
      ]
     },
     "execution_count": 42,
     "metadata": {},
     "output_type": "execute_result"
    }
   ],
   "source": [
    "clf.best_estimator_"
   ]
  },
  {
   "cell_type": "code",
   "execution_count": 43,
   "metadata": {},
   "outputs": [
    {
     "data": {
      "text/plain": [
       "ExtraTreesRegressor(bootstrap=False, ccp_alpha=0.0, criterion='mse',\n",
       "                    max_depth=4, max_features=0.95, max_leaf_nodes=None,\n",
       "                    max_samples=None, min_impurity_decrease=0.01,\n",
       "                    min_impurity_split=None, min_samples_leaf=6,\n",
       "                    min_samples_split=5, min_weight_fraction_leaf=0.0,\n",
       "                    n_estimators=350, n_jobs=-1, oob_score=False,\n",
       "                    random_state=42, verbose=0, warm_start=False)"
      ]
     },
     "execution_count": 43,
     "metadata": {},
     "output_type": "execute_result"
    }
   ],
   "source": [
    "model_xt_le_pca_corr = clf.best_estimator_\n",
    "model_xt_le_pca_corr.fit(X_train_le_PCA_corr, Y_train)"
   ]
  },
  {
   "cell_type": "code",
   "execution_count": 44,
   "metadata": {},
   "outputs": [],
   "source": [
    "pred_test_xt = model_xt_le_pca_corr.predict(X_test_le_PCA_corr)"
   ]
  },
  {
   "cell_type": "code",
   "execution_count": 45,
   "metadata": {},
   "outputs": [],
   "source": [
    "submission_xt_le_pca_corr = pd.DataFrame()\n",
    "submission_xt_le_pca_corr[\"ID\"] = ID\n",
    "submission_xt_le_pca_corr[\"y\"] = pred_test_xt"
   ]
  },
  {
   "cell_type": "code",
   "execution_count": 46,
   "metadata": {},
   "outputs": [],
   "source": [
    "submission_xt_le_pca_corr.to_csv(\"submission_xt_le_pca_corr.csv\",index=False)"
   ]
  },
  {
   "cell_type": "markdown",
   "metadata": {},
   "source": [
    "### Summary of ExtraTreeRegressor Model"
   ]
  },
  {
   "cell_type": "code",
   "execution_count": 47,
   "metadata": {},
   "outputs": [
    {
     "name": "stdout",
     "output_type": "stream",
     "text": [
      "+----------------------------------------+---------------+--------------+\n",
      "|               Model Name               | Private Score | Public Score |\n",
      "+----------------------------------------+---------------+--------------+\n",
      "| ExtraTree + PCA + interaction features |    0.54879    |   0.55077    |\n",
      "+----------------------------------------+---------------+--------------+\n"
     ]
    }
   ],
   "source": [
    "from prettytable import PrettyTable\n",
    "    \n",
    "x = PrettyTable()\n",
    "\n",
    "x.field_names = [\"Model Name\",\"Private Score\", \"Public Score\"]\n",
    "\n",
    "x.add_row([\"ExtraTree + PCA + interaction features\", 0.54879, 0.55077])\n",
    "\n",
    "\n",
    "print(x)"
   ]
  },
  {
   "cell_type": "markdown",
   "metadata": {},
   "source": [
    "## Stacking Models"
   ]
  },
  {
   "cell_type": "markdown",
   "metadata": {},
   "source": [
    "### Label Encoding + PCA + Interaction Features"
   ]
  },
  {
   "cell_type": "code",
   "execution_count": 48,
   "metadata": {},
   "outputs": [
    {
     "name": "stderr",
     "output_type": "stream",
     "text": [
      "[Parallel(n_jobs=-1)]: Using backend LokyBackend with 8 concurrent workers.\n",
      "[Parallel(n_jobs=-1)]: Done   2 out of   5 | elapsed:  1.0min remaining:  1.5min\n",
      "[Parallel(n_jobs=-1)]: Done   5 out of   5 | elapsed:  1.0min finished\n"
     ]
    },
    {
     "name": "stdout",
     "output_type": "stream",
     "text": [
      "Mean Score: 0.622920786933874\n",
      "Standard Deviation: 0.03043990451675756\n",
      "[15:52:01] WARNING: src/objective/regression_obj.cu:152: reg:linear is now deprecated in favor of reg:squarederror.\n",
      "[15:52:02] WARNING: src/objective/regression_obj.cu:152: reg:linear is now deprecated in favor of reg:squarederror.\n",
      "[15:52:02] WARNING: src/objective/regression_obj.cu:152: reg:linear is now deprecated in favor of reg:squarederror.\n",
      "[15:52:03] WARNING: src/objective/regression_obj.cu:152: reg:linear is now deprecated in favor of reg:squarederror.\n",
      "[15:52:03] WARNING: src/objective/regression_obj.cu:152: reg:linear is now deprecated in favor of reg:squarederror.\n",
      "[15:52:14] WARNING: src/objective/regression_obj.cu:152: reg:linear is now deprecated in favor of reg:squarederror.\n"
     ]
    },
    {
     "data": {
      "text/plain": [
       "StackingCVRegressor(cv=5,\n",
       "                    meta_regressor=Ridge(alpha=0, copy_X=True,\n",
       "                                         fit_intercept=False, max_iter=None,\n",
       "                                         normalize=False, random_state=42,\n",
       "                                         solver='auto', tol=0.001),\n",
       "                    n_jobs=None, pre_dispatch='2*n_jobs', random_state=None,\n",
       "                    refit=True,\n",
       "                    regressors=(RandomForestRegressor(bootstrap=True,\n",
       "                                                      ccp_alpha=0.0,\n",
       "                                                      criterion='mse',\n",
       "                                                      max_depth=3,\n",
       "                                                      max_features=0.95,\n",
       "                                                      max_leaf_nodes=None...\n",
       "                                                    max_depth=4,\n",
       "                                                    max_features=0.95,\n",
       "                                                    max_leaf_nodes=None,\n",
       "                                                    max_samples=None,\n",
       "                                                    min_impurity_decrease=0.01,\n",
       "                                                    min_impurity_split=None,\n",
       "                                                    min_samples_leaf=6,\n",
       "                                                    min_samples_split=5,\n",
       "                                                    min_weight_fraction_leaf=0.0,\n",
       "                                                    n_estimators=350, n_jobs=-1,\n",
       "                                                    oob_score=False,\n",
       "                                                    random_state=42, verbose=0,\n",
       "                                                    warm_start=False)),\n",
       "                    shuffle=True, store_train_meta_features=False,\n",
       "                    use_features_in_secondary=False, verbose=0)"
      ]
     },
     "execution_count": 48,
     "metadata": {},
     "output_type": "execute_result"
    }
   ],
   "source": [
    "ridge = Ridge(random_state=42, fit_intercept=False, alpha=0)\n",
    "stack_le_pca_corr = StackingCVRegressor(regressors=(model_rf_le_PCA_corr, model_xgb_le_pca_corr, model_xt_le_pca_corr),\n",
    "                           meta_regressor=ridge, \n",
    "                           use_features_in_secondary = False, refit=True, cv=5)\n",
    "\n",
    "cv_score=cross_val_score(stack_le_pca_corr,X_train_le_PCA_corr,Y_train,scoring='r2',cv= 5,verbose=5,n_jobs=-1)\n",
    "print('Mean Score:',cv_score.mean())\n",
    "print('Standard Deviation:',cv_score.std())\n",
    "stack_le_pca_corr.fit(X_train_le_PCA_corr,Y_train)"
   ]
  },
  {
   "cell_type": "code",
   "execution_count": 49,
   "metadata": {},
   "outputs": [],
   "source": [
    "pred_stack_label = stack_le_pca_corr.predict(X_test_le_PCA_corr)"
   ]
  },
  {
   "cell_type": "code",
   "execution_count": 50,
   "metadata": {},
   "outputs": [],
   "source": [
    "submission_stack = pd.DataFrame()\n",
    "submission_stack[\"ID\"] = ID\n",
    "submission_stack[\"y\"] = pred_stack_label \n",
    "submission_stack.to_csv(\"submission_stack_le_pca_corr.csv\", index=False)"
   ]
  },
  {
   "cell_type": "code",
   "execution_count": 51,
   "metadata": {},
   "outputs": [
    {
     "name": "stdout",
     "output_type": "stream",
     "text": [
      "+---------------------------------------+---------------+--------------+\n",
      "|               Model Name              | Private Score | Public Score |\n",
      "+---------------------------------------+---------------+--------------+\n",
      "| Stacking + PCA + interaction features |    0.54891    |   0.54959    |\n",
      "+---------------------------------------+---------------+--------------+\n"
     ]
    }
   ],
   "source": [
    "from prettytable import PrettyTable\n",
    "    \n",
    "x = PrettyTable()\n",
    "\n",
    "x.field_names = [\"Model Name\",\"Private Score\", \"Public Score\"]\n",
    "\n",
    "x.add_row([\"Stacking + PCA + interaction features\", 0.54891, 0.54959])\n",
    "\n",
    "print(x)"
   ]
  },
  {
   "cell_type": "markdown",
   "metadata": {},
   "source": [
    "Now, let's compare the results in conclusion section"
   ]
  },
  {
   "cell_type": "markdown",
   "metadata": {},
   "source": [
    "# Conclusion"
   ]
  },
  {
   "cell_type": "code",
   "execution_count": 56,
   "metadata": {},
   "outputs": [
    {
     "name": "stdout",
     "output_type": "stream",
     "text": [
      "+----------------------------------------------------------------------+----------------+---------------+\n",
      "|                              Model Name                              | Private Score  | Public Score  |\n",
      "+----------------------------------------------------------------------+----------------+---------------+\n",
      "|           RF + label encoding + PCA + interaction features           |    0.55148     |    0.55912    |\n",
      "|        Stacking + label encoding + PCA + interaction features        |    0.55227     |    0.55578    |\n",
      "|    RF + PCA + interaction features (without categorical features)    |    0.54897     |    0.55453    |\n",
      "| Stacking + PCA + interaction features (without categorical features) |    0.54891     |    0.54959    |\n",
      "+----------------------------------------------------------------------+----------------+---------------+\n"
     ]
    }
   ],
   "source": [
    "from prettytable import PrettyTable\n",
    "    \n",
    "x = PrettyTable()\n",
    "\n",
    "x.field_names = [\"Model Name\",\"Private Score \", \"Public Score \"]\n",
    "\n",
    "x.add_row([\"RF + label encoding + PCA + interaction features\", 0.55148, 0.55912])\n",
    "x.add_row([\"Stacking + label encoding + PCA + interaction features\", 0.55227, 0.55578])\n",
    "x.add_row([\"RF + PCA + interaction features (without categorical features)\", 0.54897, 0.55453])\n",
    "x.add_row([\"Stacking + PCA + interaction features (without categorical features)\", 0.54891, 0.54959])\n",
    "\n",
    "\n",
    "print(x)"
   ]
  },
  {
   "cell_type": "markdown",
   "metadata": {},
   "source": [
    "As, we can see that, both private and public scores of models (without categorical features) are\n",
    "lower than that of with categorical features.\n",
    "So, this results proved our hypothesis wrong.\n",
    "### The best model is still (Stacking + label encoding + PCA + interaction features) with private score of 0.55227"
   ]
  },
  {
   "cell_type": "code",
   "execution_count": null,
   "metadata": {},
   "outputs": [],
   "source": []
  }
 ],
 "metadata": {
  "kernelspec": {
   "display_name": "Python 3",
   "language": "python",
   "name": "python3"
  },
  "language_info": {
   "codemirror_mode": {
    "name": "ipython",
    "version": 3
   },
   "file_extension": ".py",
   "mimetype": "text/x-python",
   "name": "python",
   "nbconvert_exporter": "python",
   "pygments_lexer": "ipython3",
   "version": "3.7.4"
  }
 },
 "nbformat": 4,
 "nbformat_minor": 2
}
